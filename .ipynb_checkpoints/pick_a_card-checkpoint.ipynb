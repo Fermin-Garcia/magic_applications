{
 "cells": [
  {
   "cell_type": "code",
   "execution_count": 53,
   "id": "deb65258",
   "metadata": {},
   "outputs": [],
   "source": [
    "import random\n",
    "import pandas as pd\n",
    "import numpy as np "
   ]
  },
  {
   "cell_type": "code",
   "execution_count": 31,
   "id": "90af58e8",
   "metadata": {},
   "outputs": [
    {
     "name": "stdout",
     "output_type": "stream",
     "text": [
      "the face cards are ['Jack', 'Queen', 'King', 'Ace']\n"
     ]
    }
   ],
   "source": [
    "face_cards = ['Jack', 'Queen', 'King', 'Ace']\n",
    "print(f'the face cards are {face_cards}')\n",
    "full_deck = []"
   ]
  },
  {
   "cell_type": "code",
   "execution_count": 32,
   "id": "f2647a87",
   "metadata": {},
   "outputs": [],
   "source": [
    "number_cards = list(range(2,11))\n",
    "spade_cards = []\n",
    "for card_values in number_cards:\n",
    "    spade_cards.append(f'{card_values} of Spade')\n",
    "spade_cards\n",
    "for faces in face_cards:\n",
    "    spade_cards.append(f'{faces} of Spade')\n",
    "full_deck.append(spade_cards)"
   ]
  },
  {
   "cell_type": "code",
   "execution_count": 33,
   "id": "b815a688",
   "metadata": {},
   "outputs": [],
   "source": [
    "number_cards = list(range(2,11))\n",
    "heart_cards = []\n",
    "for card_values in number_cards:\n",
    "    heart_cards.append(f'{card_values} of Hearts')\n",
    "spade_cards\n",
    "for faces in face_cards:\n",
    "    heart_cards.append(f'{faces} of Hearts')\n",
    "full_deck.append(heart_cards)"
   ]
  },
  {
   "cell_type": "code",
   "execution_count": 34,
   "id": "e7aa0cc8",
   "metadata": {},
   "outputs": [],
   "source": [
    "number_cards = list(range(2,11))\n",
    "club_cards = []\n",
    "for card_values in number_cards:\n",
    "    club_cards.append(f'{card_values} of Clubs')\n",
    "for faces in face_cards:\n",
    "    club_cards.append(f'{faces} of Clubs')\n",
    "full_deck.append(club_cards)"
   ]
  },
  {
   "cell_type": "code",
   "execution_count": 35,
   "id": "75f0a730",
   "metadata": {},
   "outputs": [],
   "source": [
    "number_cards = list(range(2,11))\n",
    "diamonds_cards = []\n",
    "for card_values in number_cards:\n",
    "    diamonds_cards.append(f'{card_values} of Diamonds')\n",
    "for faces in face_cards:\n",
    "    diamonds_cards.append(f'{faces} of Diamonds')\n",
    "full_deck.append(diamonds_cards)"
   ]
  },
  {
   "cell_type": "code",
   "execution_count": 73,
   "id": "d4a1dfd8",
   "metadata": {},
   "outputs": [
    {
     "data": {
      "text/html": [
       "<div>\n",
       "<style scoped>\n",
       "    .dataframe tbody tr th:only-of-type {\n",
       "        vertical-align: middle;\n",
       "    }\n",
       "\n",
       "    .dataframe tbody tr th {\n",
       "        vertical-align: top;\n",
       "    }\n",
       "\n",
       "    .dataframe thead th {\n",
       "        text-align: right;\n",
       "    }\n",
       "</style>\n",
       "<table border=\"1\" class=\"dataframe\">\n",
       "  <thead>\n",
       "    <tr style=\"text-align: right;\">\n",
       "      <th></th>\n",
       "      <th>0</th>\n",
       "      <th>1</th>\n",
       "      <th>2</th>\n",
       "      <th>3</th>\n",
       "      <th>4</th>\n",
       "      <th>5</th>\n",
       "      <th>6</th>\n",
       "      <th>7</th>\n",
       "      <th>8</th>\n",
       "      <th>9</th>\n",
       "      <th>10</th>\n",
       "      <th>11</th>\n",
       "      <th>12</th>\n",
       "    </tr>\n",
       "  </thead>\n",
       "  <tbody>\n",
       "    <tr>\n",
       "      <th>0</th>\n",
       "      <td>2 of Spade</td>\n",
       "      <td>3 of Spade</td>\n",
       "      <td>4 of Spade</td>\n",
       "      <td>5 of Spade</td>\n",
       "      <td>6 of Spade</td>\n",
       "      <td>7 of Spade</td>\n",
       "      <td>8 of Spade</td>\n",
       "      <td>9 of Spade</td>\n",
       "      <td>10 of Spade</td>\n",
       "      <td>Jack of Spade</td>\n",
       "      <td>Queen of Spade</td>\n",
       "      <td>King of Spade</td>\n",
       "      <td>Ace of Spade</td>\n",
       "    </tr>\n",
       "    <tr>\n",
       "      <th>1</th>\n",
       "      <td>2 of Hearts</td>\n",
       "      <td>3 of Hearts</td>\n",
       "      <td>4 of Hearts</td>\n",
       "      <td>5 of Hearts</td>\n",
       "      <td>6 of Hearts</td>\n",
       "      <td>7 of Hearts</td>\n",
       "      <td>8 of Hearts</td>\n",
       "      <td>9 of Hearts</td>\n",
       "      <td>10 of Hearts</td>\n",
       "      <td>Jack of Hearts</td>\n",
       "      <td>Queen of Hearts</td>\n",
       "      <td>King of Hearts</td>\n",
       "      <td>Ace of Hearts</td>\n",
       "    </tr>\n",
       "    <tr>\n",
       "      <th>2</th>\n",
       "      <td>2 of Clubs</td>\n",
       "      <td>3 of Clubs</td>\n",
       "      <td>4 of Clubs</td>\n",
       "      <td>5 of Clubs</td>\n",
       "      <td>6 of Clubs</td>\n",
       "      <td>7 of Clubs</td>\n",
       "      <td>8 of Clubs</td>\n",
       "      <td>9 of Clubs</td>\n",
       "      <td>10 of Clubs</td>\n",
       "      <td>Jack of Clubs</td>\n",
       "      <td>Queen of Clubs</td>\n",
       "      <td>King of Clubs</td>\n",
       "      <td>Ace of Clubs</td>\n",
       "    </tr>\n",
       "    <tr>\n",
       "      <th>3</th>\n",
       "      <td>2 of Diamonds</td>\n",
       "      <td>3 of Diamonds</td>\n",
       "      <td>4 of Diamonds</td>\n",
       "      <td>5 of Diamonds</td>\n",
       "      <td>6 of Diamonds</td>\n",
       "      <td>7 of Diamonds</td>\n",
       "      <td>8 of Diamonds</td>\n",
       "      <td>9 of Diamonds</td>\n",
       "      <td>10 of Diamonds</td>\n",
       "      <td>Jack of Diamonds</td>\n",
       "      <td>Queen of Diamonds</td>\n",
       "      <td>King of Diamonds</td>\n",
       "      <td>Ace of Diamonds</td>\n",
       "    </tr>\n",
       "  </tbody>\n",
       "</table>\n",
       "</div>"
      ],
      "text/plain": [
       "              0              1              2              3              4   \\\n",
       "0     2 of Spade     3 of Spade     4 of Spade     5 of Spade     6 of Spade   \n",
       "1    2 of Hearts    3 of Hearts    4 of Hearts    5 of Hearts    6 of Hearts   \n",
       "2     2 of Clubs     3 of Clubs     4 of Clubs     5 of Clubs     6 of Clubs   \n",
       "3  2 of Diamonds  3 of Diamonds  4 of Diamonds  5 of Diamonds  6 of Diamonds   \n",
       "\n",
       "              5              6              7               8   \\\n",
       "0     7 of Spade     8 of Spade     9 of Spade     10 of Spade   \n",
       "1    7 of Hearts    8 of Hearts    9 of Hearts    10 of Hearts   \n",
       "2     7 of Clubs     8 of Clubs     9 of Clubs     10 of Clubs   \n",
       "3  7 of Diamonds  8 of Diamonds  9 of Diamonds  10 of Diamonds   \n",
       "\n",
       "                 9                  10                11               12  \n",
       "0     Jack of Spade     Queen of Spade     King of Spade     Ace of Spade  \n",
       "1    Jack of Hearts    Queen of Hearts    King of Hearts    Ace of Hearts  \n",
       "2     Jack of Clubs     Queen of Clubs     King of Clubs     Ace of Clubs  \n",
       "3  Jack of Diamonds  Queen of Diamonds  King of Diamonds  Ace of Diamonds  "
      ]
     },
     "execution_count": 73,
     "metadata": {},
     "output_type": "execute_result"
    }
   ],
   "source": [
    "df = pd.DataFrame(full_deck)\n",
    "df"
   ]
  },
  {
   "cell_type": "code",
   "execution_count": 92,
   "id": "1c45fefb",
   "metadata": {},
   "outputs": [
    {
     "data": {
      "text/plain": [
       "4"
      ]
     },
     "execution_count": 92,
     "metadata": {},
     "output_type": "execute_result"
    }
   ],
   "source": []
  },
  {
   "cell_type": "code",
   "execution_count": 100,
   "id": "16aa92fc",
   "metadata": {},
   "outputs": [],
   "source": [
    "def random_card(df):\n",
    "    import random\n",
    "    x = random.randint(0,3)\n",
    "    y = random.randint(0,12)\n",
    "    \n",
    "    print(df.iloc[x,y])"
   ]
  },
  {
   "cell_type": "code",
   "execution_count": 378,
   "id": "a4b3c2cb",
   "metadata": {},
   "outputs": [
    {
     "name": "stdout",
     "output_type": "stream",
     "text": [
      "9 of Spade\n"
     ]
    }
   ],
   "source": [
    "random_card(df)"
   ]
  }
 ],
 "metadata": {
  "kernelspec": {
   "display_name": "Python 3 (ipykernel)",
   "language": "python",
   "name": "python3"
  },
  "language_info": {
   "codemirror_mode": {
    "name": "ipython",
    "version": 3
   },
   "file_extension": ".py",
   "mimetype": "text/x-python",
   "name": "python",
   "nbconvert_exporter": "python",
   "pygments_lexer": "ipython3",
   "version": "3.9.13"
  }
 },
 "nbformat": 4,
 "nbformat_minor": 5
}
